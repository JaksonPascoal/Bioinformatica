{
  "nbformat": 4,
  "nbformat_minor": 0,
  "metadata": {
    "colab": {
      "provenance": [],
      "authorship_tag": "ABX9TyNhP7jw6OolUP93jZFtkBop",
      "include_colab_link": true
    },
    "kernelspec": {
      "name": "python3",
      "display_name": "Python 3"
    },
    "language_info": {
      "name": "python"
    }
  },
  "cells": [
    {
      "cell_type": "markdown",
      "metadata": {
        "id": "view-in-github",
        "colab_type": "text"
      },
      "source": [
        "<a href=\"https://colab.research.google.com/github/JaksonPascoal/Bioinformatica/blob/main/Bioinrformatica0.ipynb\" target=\"_parent\"><img src=\"https://colab.research.google.com/assets/colab-badge.svg\" alt=\"Open In Colab\"/></a>"
      ]
    },
    {
      "cell_type": "markdown",
      "source": [
        "### Estudo Bioinformática - Biopython"
      ],
      "metadata": {
        "id": "XImZUDqyxF9y"
      }
    },
    {
      "cell_type": "code",
      "execution_count": 28,
      "metadata": {
        "colab": {
          "base_uri": "https://localhost:8080/"
        },
        "id": "dWRgaS1MuS_O",
        "outputId": "6a3b511d-5899-4c5d-935e-c985075a0d72"
      },
      "outputs": [
        {
          "output_type": "stream",
          "name": "stdout",
          "text": [
            "Requirement already satisfied: biopython in /usr/local/lib/python3.10/dist-packages (1.81)\n",
            "Requirement already satisfied: numpy in /usr/local/lib/python3.10/dist-packages (from biopython) (1.23.5)\n"
          ]
        }
      ],
      "source": [
        "!pip3 install biopython"
      ]
    },
    {
      "cell_type": "markdown",
      "source": [
        "- Declarando sequência"
      ],
      "metadata": {
        "id": "PCtVFQEIx5TL"
      }
    },
    {
      "cell_type": "code",
      "source": [
        "from Bio.Seq import Seq"
      ],
      "metadata": {
        "id": "XMRSr3RAv-yp"
      },
      "execution_count": 29,
      "outputs": []
    },
    {
      "cell_type": "code",
      "source": [
        "my_seq = Seq(\"ATG\")"
      ],
      "metadata": {
        "id": "OxGJRTBXw5aX"
      },
      "execution_count": 30,
      "outputs": []
    },
    {
      "cell_type": "code",
      "source": [
        "print(my_seq)"
      ],
      "metadata": {
        "colab": {
          "base_uri": "https://localhost:8080/"
        },
        "id": "9G_C7CxGxtCE",
        "outputId": "53dbb5e0-b250-4d51-c586-7c402db21b68"
      },
      "execution_count": 31,
      "outputs": [
        {
          "output_type": "stream",
          "name": "stdout",
          "text": [
            "ATG\n"
          ]
        }
      ]
    },
    {
      "cell_type": "markdown",
      "source": [
        "- Complementar e reverso complementar"
      ],
      "metadata": {
        "id": "c8B7lX-oyJE8"
      }
    },
    {
      "cell_type": "code",
      "source": [
        "# Sequência complementar\n",
        "seq_complementar = my_seq.complement()"
      ],
      "metadata": {
        "id": "iYGpRrj7xycl"
      },
      "execution_count": 32,
      "outputs": []
    },
    {
      "cell_type": "code",
      "source": [
        "print(seq_complementar)"
      ],
      "metadata": {
        "colab": {
          "base_uri": "https://localhost:8080/"
        },
        "id": "ehmgKsOQyxFu",
        "outputId": "3df12d74-492f-470e-c4fd-a271b3f78192"
      },
      "execution_count": 33,
      "outputs": [
        {
          "output_type": "stream",
          "name": "stdout",
          "text": [
            "TAC\n"
          ]
        }
      ]
    },
    {
      "cell_type": "code",
      "source": [
        "# Sequência reversa complementar\n",
        "seq_complementar_reversa = my_seq.reverse_complement()\n"
      ],
      "metadata": {
        "id": "hjGzpTjh2iwZ"
      },
      "execution_count": 34,
      "outputs": []
    },
    {
      "cell_type": "code",
      "source": [
        "print(seq_complementar_reversa)"
      ],
      "metadata": {
        "colab": {
          "base_uri": "https://localhost:8080/"
        },
        "id": "G8IdmM-M3PWh",
        "outputId": "271b72a2-39e6-401e-9d1b-ea0fe995e3c5"
      },
      "execution_count": 35,
      "outputs": [
        {
          "output_type": "stream",
          "name": "stdout",
          "text": [
            "CAT\n"
          ]
        }
      ]
    },
    {
      "cell_type": "markdown",
      "source": [
        "- Transcrição\n",
        "\n",
        "- O processo de transcrição permite a formação do RNA mensageiro com base na região codificante do DNA. Computacionalmente falando podemos analisar a transcrição como um processo de modificações em strings. Em resumo o processo de transcrição, é o processo de conversão de uma sequência de DNA, de uma região codificante, em uma sequência de RNA Mensageiro.\n",
        "\n",
        "\n",
        "\n"
      ],
      "metadata": {
        "id": "WWGyHgH13sjh"
      }
    },
    {
      "cell_type": "code",
      "source": [
        "seq_rna = my_seq.transcribe()\n"
      ],
      "metadata": {
        "id": "D2kelvbB37oj"
      },
      "execution_count": 36,
      "outputs": []
    },
    {
      "cell_type": "code",
      "source": [
        "print(seq_rna)"
      ],
      "metadata": {
        "colab": {
          "base_uri": "https://localhost:8080/"
        },
        "id": "_QR5jJvs6wnZ",
        "outputId": "63691e68-3419-43c7-8ae0-8d7b2c8a78e3"
      },
      "execution_count": 37,
      "outputs": [
        {
          "output_type": "stream",
          "name": "stdout",
          "text": [
            "AUG\n"
          ]
        }
      ]
    },
    {
      "cell_type": "markdown",
      "source": [
        "- Transcrição reversa : RNA para DNA"
      ],
      "metadata": {
        "id": "RsJMG7oz6_NQ"
      }
    },
    {
      "cell_type": "code",
      "source": [
        "seq_dna = seq_rna.back_transcribe()"
      ],
      "metadata": {
        "id": "b-QCSi5F7D9C"
      },
      "execution_count": 38,
      "outputs": []
    },
    {
      "cell_type": "code",
      "source": [
        "print(seq_dna)"
      ],
      "metadata": {
        "colab": {
          "base_uri": "https://localhost:8080/"
        },
        "id": "W5MvjZr17V-R",
        "outputId": "2098851e-7d4a-4eb3-de26-943e1ce1dd6a"
      },
      "execution_count": 39,
      "outputs": [
        {
          "output_type": "stream",
          "name": "stdout",
          "text": [
            "ATG\n"
          ]
        }
      ]
    },
    {
      "cell_type": "markdown",
      "source": [
        "- Tradução\n",
        "- No processo de tradução, a sequência de RNA mensageiro será utilizada como molde para a junção dos aminoácidos, e assim, a formação da proteína.\n",
        "\n"
      ],
      "metadata": {
        "id": "rlo-plpV7wQ7"
      }
    },
    {
      "cell_type": "code",
      "source": [
        "# Transcrição\n",
        "seq_rna = my_seq.transcribe()"
      ],
      "metadata": {
        "id": "-el7S5OqVpP8"
      },
      "execution_count": 40,
      "outputs": []
    },
    {
      "cell_type": "code",
      "source": [
        "# Tradução\n",
        "seq_protein = seq_rna.translate()"
      ],
      "metadata": {
        "id": "wJIsL0nzWQ5N"
      },
      "execution_count": 41,
      "outputs": []
    },
    {
      "cell_type": "code",
      "source": [
        "print(seq_protein)  # Gera um aminoacido (metionina)"
      ],
      "metadata": {
        "colab": {
          "base_uri": "https://localhost:8080/"
        },
        "id": "eDUBpLXDWnyt",
        "outputId": "fda7312a-e30f-4aa8-c3d7-2bb53b16fad8"
      },
      "execution_count": 42,
      "outputs": [
        {
          "output_type": "stream",
          "name": "stdout",
          "text": [
            "M\n"
          ]
        }
      ]
    },
    {
      "cell_type": "code",
      "source": [
        "# Ou com DNA\n",
        "seq_dna = seq_rna.back_transcribe()"
      ],
      "metadata": {
        "id": "HIqcy3aMXI_E"
      },
      "execution_count": 43,
      "outputs": []
    },
    {
      "cell_type": "code",
      "source": [
        "seq_protein = seq_dna.translate()"
      ],
      "metadata": {
        "id": "VJxhA0fJXXMO"
      },
      "execution_count": 44,
      "outputs": []
    },
    {
      "cell_type": "code",
      "source": [
        "print(seq_protein)"
      ],
      "metadata": {
        "colab": {
          "base_uri": "https://localhost:8080/"
        },
        "id": "PKysfIy3Xjlf",
        "outputId": "9e7e2689-e063-479e-ad7c-6ea3c503b515"
      },
      "execution_count": 45,
      "outputs": [
        {
          "output_type": "stream",
          "name": "stdout",
          "text": [
            "M\n"
          ]
        }
      ]
    },
    {
      "cell_type": "markdown",
      "source": [
        "- Analisando arquivo tipo fasta\n",
        "- Fasta => Em bioinformática, o formato FASTA é um formato baseado em texto para representar tanto sequencias de nucleótidos quanto sequencias de peptídeos, no qual os nucleotídeos ou aminoácidos são representados usando códigos de uma única letra.[1][2] O formato também permite sequências de nomes e comentários precedendo as sequências. O formato se origina do FASTA, pacote de software, mas agora se tornou um padrão na área de bioinformática. A simplicidade do formato FASTA torna mais fácil manipular e analisar sequências usando ferramentas de processamento de texto e linguagens de script como Python, Ruby, e Perl."
      ],
      "metadata": {
        "id": "qSOezvSPX7ow"
      }
    },
    {
      "cell_type": "code",
      "source": [
        "from Bio import SeqIO"
      ],
      "metadata": {
        "id": "g_NzJXB2X-ae"
      },
      "execution_count": 46,
      "outputs": []
    },
    {
      "cell_type": "code",
      "source": [
        "# Metodo responsavel por analisar arquivo fasta, ou seja, \"laço com \"for\"\n",
        "for fasta in SeqIO.parse(\"my_seq.fasta\", \"fasta\"):\n",
        "  print(fasta.id)\n"
      ],
      "metadata": {
        "colab": {
          "base_uri": "https://localhost:8080/"
        },
        "id": "xCm05rjBZX5V",
        "outputId": "0d3b4ca1-8f26-4e7a-9614-033fc1b93c50"
      },
      "execution_count": 49,
      "outputs": [
        {
          "output_type": "stream",
          "name": "stdout",
          "text": [
            "NC_008253.1\n"
          ]
        }
      ]
    },
    {
      "cell_type": "code",
      "source": [
        "for fasta in SeqIO.parse(\"my_seq.fasta\", \"fasta\"):\n",
        "  print(fasta.id)\n"
      ],
      "metadata": {
        "colab": {
          "base_uri": "https://localhost:8080/"
        },
        "id": "zj1p55zUd9am",
        "outputId": "ad86362b-e7da-40c0-9967-69be2c546b1f"
      },
      "execution_count": 52,
      "outputs": [
        {
          "output_type": "stream",
          "name": "stdout",
          "text": [
            "NC_008253.1\n"
          ]
        }
      ]
    },
    {
      "cell_type": "markdown",
      "source": [
        "- Estruturas de Proteínas"
      ],
      "metadata": {
        "id": "suDcmk0sg6a8"
      }
    },
    {
      "cell_type": "code",
      "source": [
        "from Bio.PDB import *\n",
        "import numpy as np\n"
      ],
      "metadata": {
        "id": "q_JcKd69g-gN"
      },
      "execution_count": 54,
      "outputs": []
    },
    {
      "cell_type": "code",
      "source": [
        "# SMCRA\n",
        "parser = PDBParser()\n",
        "estrutura = parser.get_structure(\"1BGA\", \"1bga.pdb\")\n",
        "\n",
        "atomo_100 = estrutura[0][\"A\"][100][\"CA\"]\n",
        "atomo_101 = estrutura[0][\"A\"][101][\"CA\"]\n",
        "\n",
        "# Distancia Euclidiana\n",
        "\n",
        "distancia = atomo_101 - atomo_100\n",
        "print(\"\\n\\n\\n A distancia euclidiana é\")\n",
        "print(distancia)\n",
        "\n",
        "# Ignorar os erros warning"
      ],
      "metadata": {
        "colab": {
          "base_uri": "https://localhost:8080/"
        },
        "id": "HbkK9f6hjGT7",
        "outputId": "a17e1003-a5a5-418a-f733-8189bdaebad0"
      },
      "execution_count": 63,
      "outputs": [
        {
          "output_type": "stream",
          "name": "stdout",
          "text": [
            "\n",
            "\n",
            "\n",
            " A distancia euclidiana é\n",
            "3.7942057\n"
          ]
        },
        {
          "output_type": "stream",
          "name": "stderr",
          "text": [
            "/usr/local/lib/python3.10/dist-packages/Bio/PDB/StructureBuilder.py:89: PDBConstructionWarning: WARNING: Chain A is discontinuous at line 15242.\n",
            "  warnings.warn(\n",
            "/usr/local/lib/python3.10/dist-packages/Bio/PDB/StructureBuilder.py:89: PDBConstructionWarning: WARNING: Chain B is discontinuous at line 15624.\n",
            "  warnings.warn(\n",
            "/usr/local/lib/python3.10/dist-packages/Bio/PDB/StructureBuilder.py:89: PDBConstructionWarning: WARNING: Chain C is discontinuous at line 16020.\n",
            "  warnings.warn(\n",
            "/usr/local/lib/python3.10/dist-packages/Bio/PDB/StructureBuilder.py:89: PDBConstructionWarning: WARNING: Chain D is discontinuous at line 16404.\n",
            "  warnings.warn(\n"
          ]
        }
      ]
    }
  ]
}